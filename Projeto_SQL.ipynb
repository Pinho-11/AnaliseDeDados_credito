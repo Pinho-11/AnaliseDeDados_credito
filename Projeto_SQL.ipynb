{
  "nbformat": 4,
  "nbformat_minor": 0,
  "metadata": {
    "colab": {
      "provenance": []
    },
    "kernelspec": {
      "name": "python3",
      "display_name": "Python 3"
    },
    "language_info": {
      "name": "python"
    }
  },
  "cells": [
    {
      "cell_type": "markdown",
      "source": [
        " # **Exploração e análise de dados de crédito com SQL**"
      ],
      "metadata": {
        "id": "lm97OIo8-yVA"
      }
    },
    {
      "cell_type": "markdown",
      "source": [
        "# Dados"
      ],
      "metadata": {
        "id": "2c4xYxkESNul"
      }
    },
    {
      "cell_type": "markdown",
      "source": [
        "Analisando o que cada coluna representa:"
      ],
      "metadata": {
        "id": "-YED6qgh71yi"
      }
    },
    {
      "cell_type": "markdown",
      "source": [
        "* idade = idade do cliente\n",
        "* sexo = sexo do cliente(F ou M)\n",
        "* dependentes = número de dependentes do cliente\n",
        "* escolaridade = nível de escolaridade do cliente\n",
        "* estado_civil = estado civil do cliente\n",
        "* salario_anual = faixa salarial anual do cliente\n",
        "* tipo_cartao = tipo de cartao do cliente\n",
        "* qtd_produtos = quantidade de produtos comprados nos últimos 12 meses\n",
        "* interacoes_12m = número de operações feitas pelo cliente nos últimos 12 meses\n",
        "* meses_inativo_12m = quantidade de meses a qual o cliente não fez nenhuma operação\n",
        "* limite_credito = limite de credito do cliente\n",
        "* valor_transacoes_12m = valor total das transações nos últimos 12 meses\n",
        "* qtd_transacoes_12m = quantidade de transações feitas nos últimos 12 meses"
      ],
      "metadata": {
        "id": "8uH_XH_K6Ux9"
      }
    },
    {
      "cell_type": "markdown",
      "source": [
        "A tabela foi criada no **AWS Athena** junto com o **S3 Bucket** com uma versão dos dados disponibilizados em: https://github.com/Pinho-11/Projeto_SQL/blob/main/dataset/creditos.xls"
      ],
      "metadata": {
        "id": "YR_aYEfL9euU"
      }
    },
    {
      "cell_type": "markdown",
      "source": [
        "# Exploração de dados"
      ],
      "metadata": {
        "id": "GE6rEXaKSoM2"
      }
    },
    {
      "cell_type": "markdown",
      "source": [
        "Nessa etapa, farei uma breve análise do nosso conjunto de dados, visando entender como está distribuido os dados na tabela."
      ],
      "metadata": {
        "id": "p6Y4oYqi_Th_"
      }
    },
    {
      "cell_type": "markdown",
      "source": [
        "> Quantas linhas possui a base de dados?"
      ],
      "metadata": {
        "id": "9bFPncKEZDMP"
      }
    },
    {
      "cell_type": "markdown",
      "source": [
        "```sql\n",
        "SELECT COUNT(*) FROM credito\n",
        "```"
      ],
      "metadata": {
        "id": "O0Tj9DgCZG5J"
      }
    },
    {
      "cell_type": "markdown",
      "source": [
        "* Reposta: 2564 linhas"
      ],
      "metadata": {
        "id": "O8s4hhTaZPjg"
      }
    },
    {
      "cell_type": "markdown",
      "source": [
        "> Como é a base de dados?"
      ],
      "metadata": {
        "id": "CM0P_acQsK1E"
      }
    },
    {
      "cell_type": "markdown",
      "source": [
        "```sql\n",
        "SELECT * FROM credito LIMIT 10\n",
        "```"
      ],
      "metadata": {
        "id": "EI35i0UZP4Ri"
      }
    },
    {
      "cell_type": "markdown",
      "source": [
        "![](https://github.com/Pinho-11/Projeto_SQL/blob/main/queries_images/select_all..PNG?raw=true)"
      ],
      "metadata": {
        "id": "XzsMBuc0CmMw"
      }
    },
    {
      "cell_type": "markdown",
      "source": [
        "* Nessas 10 primeiras linhas do dataset, é possivel perceber a presença de informações nulas na tabela(na), em particular nas colunas escolaridade e estado_civil."
      ],
      "metadata": {
        "id": "Zrj0ze8YQQv-"
      }
    },
    {
      "cell_type": "markdown",
      "source": [
        "> Qual o tipo de cada dado?"
      ],
      "metadata": {
        "id": "TQJWiqeCRPF-"
      }
    },
    {
      "cell_type": "markdown",
      "source": [
        "```sql\n",
        "DESCRIBE credito\n",
        "```"
      ],
      "metadata": {
        "id": "eIrZhOZpRE7C"
      }
    },
    {
      "cell_type": "markdown",
      "source": [
        "![](https://github.com/Pinho-11/Projeto_SQL/blob/main/queries_images/describe_credito.png?raw=true)"
      ],
      "metadata": {
        "id": "m-4ffLeERJ_Y"
      }
    },
    {
      "cell_type": "markdown",
      "source": [
        "> Quais são os dados da coluna escolaridade?"
      ],
      "metadata": {
        "id": "zBxHB1uNsYS3"
      }
    },
    {
      "cell_type": "markdown",
      "source": [
        "```sql\n",
        "SELECT DISTINCT escolaridade FROM credito\n",
        "```"
      ],
      "metadata": {
        "id": "AaBhU6PcPzlc"
      }
    },
    {
      "cell_type": "markdown",
      "source": [
        "![](https://github.com/Pinho-11/Projeto_SQL/blob/main/queries_images/select_distinct_escolaridade.PNG?raw=true)"
      ],
      "metadata": {
        "id": "TCpVax2NDHZi"
      }
    },
    {
      "cell_type": "markdown",
      "source": [
        "* Nessa coluna, além de apresentar os níveis de escolaridade, também pode-se notar a presença de dados nulos(na)."
      ],
      "metadata": {
        "id": "gXfRXfhTRW8N"
      }
    },
    {
      "cell_type": "markdown",
      "source": [
        "> Quais são os dados da coluna estado_civil?"
      ],
      "metadata": {
        "id": "4I45pYQKsj4r"
      }
    },
    {
      "cell_type": "markdown",
      "source": [
        "```sql\n",
        "SELECT DISTINCT estado_civil FROM credito\n",
        "```"
      ],
      "metadata": {
        "id": "mKvh2FeeQ8jI"
      }
    },
    {
      "cell_type": "markdown",
      "source": [
        "![](https://github.com/Pinho-11/Projeto_SQL/blob/main/queries_images/select_distinct_estado_civil.PNG?raw=true)"
      ],
      "metadata": {
        "id": "IPBAgUmtEfck"
      }
    },
    {
      "cell_type": "markdown",
      "source": [
        "* Assim como na coluna *escolaridade*, na coluna *estado_civil* também está presente dados nulos."
      ],
      "metadata": {
        "id": "1aGp3LvMRtF8"
      }
    },
    {
      "cell_type": "markdown",
      "source": [
        "> Quais são os dados da coluna salario_anual?"
      ],
      "metadata": {
        "id": "u72nQerEsmgh"
      }
    },
    {
      "cell_type": "markdown",
      "source": [
        "```sql\n",
        "SELECT DISTINCT salario_anual FROM credito\n",
        "```"
      ],
      "metadata": {
        "id": "hMFPKOLTQ_HM"
      }
    },
    {
      "cell_type": "markdown",
      "source": [
        "![](https://github.com/Pinho-11/Projeto_SQL/blob/main/queries_images/select_distinct_salario_anual.PNG?raw=true)"
      ],
      "metadata": {
        "id": "mAWE-f7bDI9E"
      }
    },
    {
      "cell_type": "markdown",
      "source": [
        "* Nesse dataset, os salários anuais são apresentados por meio de uma faixa de renda. Essa coluna também apresenta dados nulos."
      ],
      "metadata": {
        "id": "mqba9mxiSCmk"
      }
    },
    {
      "cell_type": "markdown",
      "source": [
        "> Quantas pessoas possuem cada tipo de cartão?"
      ],
      "metadata": {
        "id": "CkZQsLk6soWs"
      }
    },
    {
      "cell_type": "markdown",
      "source": [
        "```sql\n",
        "SELECT COUNT(*) AS qtd_pessoas , tipo_cartao FROM credito\n",
        "GROUP BY tipo_cartao\n",
        "```"
      ],
      "metadata": {
        "id": "OHAQDTRZVleY"
      }
    },
    {
      "cell_type": "markdown",
      "source": [
        "![](https://github.com/Pinho-11/Projeto_SQL/blob/main/queries_images/select_count_tipo_cartao.PNG?raw=true)"
      ],
      "metadata": {
        "id": "td0mU7XADJoJ"
      }
    },
    {
      "cell_type": "markdown",
      "source": [
        "* Observa-se que não será necessário tratar valores nulos, além disso, vemos por meio dessa imagem a disparidade entre clientes com o cartão do tipo **blue** para os demais tipos."
      ],
      "metadata": {
        "id": "JaRQOTa_Sa3i"
      }
    },
    {
      "cell_type": "markdown",
      "source": [
        "# Análise de dados"
      ],
      "metadata": {
        "id": "Hfr3N3qB-017"
      }
    },
    {
      "cell_type": "markdown",
      "source": [
        "> Qual a quantidade de homens e mulheres nessa base de dados?"
      ],
      "metadata": {
        "id": "HWoW6HrcTFdL"
      }
    },
    {
      "cell_type": "markdown",
      "source": [
        "```sql\n",
        "SELECT COUNT(*) AS qtd_pessoas, sexo FROM credito GROUP BY sexo\n",
        "```"
      ],
      "metadata": {
        "id": "RyQPVN3pTLIG"
      }
    },
    {
      "cell_type": "markdown",
      "source": [
        "![](https://github.com/Pinho-11/Projeto_SQL/blob/main/queries_images/count_sexo.PNG?raw=true)"
      ],
      "metadata": {
        "id": "ZQnTsY_kDKgl"
      }
    },
    {
      "cell_type": "markdown",
      "source": [
        "* Por meio dessa querry, é possivel observar a disparidade entre clientes do sexo masculino e feminino. Há 562 homens a mais do que mulheres, eles representam cerca de 61% dos clientes, enquantos as mulheres representam 39%."
      ],
      "metadata": {
        "id": "7FGeJImsF16V"
      }
    },
    {
      "cell_type": "markdown",
      "source": [
        "> Qual a relação entre o limite de crédito e a escolaridade?"
      ],
      "metadata": {
        "id": "nIh28h-mUIK5"
      }
    },
    {
      "cell_type": "markdown",
      "source": [
        "```sql\n",
        "SELECT AVG(limite_credito) AS media_limite, escolaridade FROM credito\n",
        "WHERE escolaridade != 'na'\n",
        "GROUP BY escolaridade\n",
        "ORDER BY media_limite DESC\n",
        "```"
      ],
      "metadata": {
        "id": "ql-n2T4__JH0"
      }
    },
    {
      "cell_type": "markdown",
      "source": [
        "![](https://github.com/Pinho-11/Projeto_SQL/blob/main/queries_images/limite_escolaridade.PNG?raw=true)"
      ],
      "metadata": {
        "id": "G2lfiLKlDLRb"
      }
    },
    {
      "cell_type": "markdown",
      "source": [
        "* É possivel perceber que não existe uma relação direta entre o limite de crédito médio e a escolaridade do cliente. Nessa query, o limite médio de um cliente com curso de graduação é maior do que a de um com mestrado."
      ],
      "metadata": {
        "id": "4OcdSGrWFuW9"
      }
    },
    {
      "cell_type": "markdown",
      "source": [
        "> O que podemos notar entre o limite de crédito e o salário anual?"
      ],
      "metadata": {
        "id": "45AgOiQxnX9j"
      }
    },
    {
      "cell_type": "markdown",
      "source": [
        "```sql\n",
        "SELECT AVG(limite_credito) AS media_limite , salario_anual FROM credito\n",
        "WHERE salario_anual != 'na'\n",
        "GROUP BY salario_anual\n",
        "ORDER BY media_limite DESC\n",
        "```"
      ],
      "metadata": {
        "id": "TAVXkDVhnmov"
      }
    },
    {
      "cell_type": "markdown",
      "source": [
        "![](https://github.com/Pinho-11/Projeto_SQL/blob/main/queries_images/limite_salario_anual.PNG?raw=true)"
      ],
      "metadata": {
        "id": "BjMjNeKIDMJm"
      }
    },
    {
      "cell_type": "markdown",
      "source": [
        "* Podemos perceber que a limite de crédito médio e o salario anual são diretamente proporcionais, aqueles que ganham mais tem um limite de crédito maior do que aqueles que possuem uma renda inferior."
      ],
      "metadata": {
        "id": "0nMmdOD2FpyQ"
      }
    },
    {
      "cell_type": "markdown",
      "source": [
        "> Em qual categoria de renda anual podemos observar a maior oportunidade do aumento de transações?"
      ],
      "metadata": {
        "id": "fmDe6Io6FNvF"
      }
    },
    {
      "cell_type": "markdown",
      "source": [
        "```sql\n",
        "SELECT COUNT(*) AS qtd_clientes, salario_anual, AVG(valor_transacoes_12m) AS media_transacoes FROM credito\n",
        "WHERE tipo_cartao = 'blue' AND salario_anual != 'na'\n",
        "GROUP BY salario_anual\n",
        "ORDER BY qtd_clientes DESC\n",
        "```"
      ],
      "metadata": {
        "id": "y3UayTKEFXu0"
      }
    },
    {
      "cell_type": "markdown",
      "source": [
        "![](https://github.com/Pinho-11/Projeto_SQL/blob/main/queries_images/renda_vs_media_transacoes.PNG?raw=true)"
      ],
      "metadata": {
        "id": "bbhDx-ERFjBh"
      }
    },
    {
      "cell_type": "markdown",
      "source": [
        "* Podemos notar que por mais que 212 clientes possuam o cartão tipo blue e tenham uma renda anual superior a $120K, são esses os que obtiveram em média, o menor valor em transações nos últimos 12 meses. Por isso, devemos direcionar uma campanha de marketing especificamente para esse público."
      ],
      "metadata": {
        "id": "1bHfgLQgFW7y"
      }
    },
    {
      "cell_type": "markdown",
      "source": [
        "> Visto que a maior parte dos clientes possui o cartão do tipo **blue**, qual seria a idade deles?"
      ],
      "metadata": {
        "id": "4CjY5wV1fU1D"
      }
    },
    {
      "cell_type": "markdown",
      "source": [
        "```sql\n",
        "SELECT AVG(idade) AS idade_media, MIN(idade) as idade_minima, MAX(idade) AS idade_maxima FROM credito\n",
        "WHERE tipo_cartao = 'blue'\n",
        "```"
      ],
      "metadata": {
        "id": "AD4qUAmQh4mA"
      }
    },
    {
      "cell_type": "markdown",
      "source": [
        "![](https://github.com/Pinho-11/Projeto_SQL/blob/main/queries_images/idade_tipo_cartao_blue.PNG?raw=true)"
      ],
      "metadata": {
        "id": "XJDYyBPHDMzg"
      }
    },
    {
      "cell_type": "markdown",
      "source": [
        "* Como o cartão do tipo **blue** é o mais básico, era de se esperar uma disparidade grande entre a maior e a menor idade, nessa base de dados, essa disparidade é de 47 anos."
      ],
      "metadata": {
        "id": "BD09g4SRe4gc"
      }
    },
    {
      "cell_type": "markdown",
      "source": [
        "> Qual é o sexo que possui a maior razão entre o valor medio das transações e o limite do cartão?"
      ],
      "metadata": {
        "id": "tJUFBlS40ifN"
      }
    },
    {
      "cell_type": "markdown",
      "source": [
        "```sql\n",
        "SELECT AVG(valor_transacoes_12m) AS media_transacoes, AVG(limite_credito) AS limite_cartao, sexo FROM credito\n",
        "GROUP BY sexo\n",
        "```"
      ],
      "metadata": {
        "id": "uycgyrVGWonG"
      }
    },
    {
      "cell_type": "markdown",
      "source": [
        "![](https://github.com/Pinho-11/Projeto_SQL/blob/main/queries_images/media_transacoes_limite_sexo.PNG?raw=true)"
      ],
      "metadata": {
        "id": "GtsJ56W9HD3H"
      }
    },
    {
      "cell_type": "markdown",
      "source": [
        "* A razão entre o valor medio das transações e o limite do cartão para o sexo masculino é de 0,16(1.807,97/11.201,36), ou seja, os homens usam cerca de 16% do seu limite de crédito, enquanto as mulheres utilizam 32%(1.839,62/5.749). Ou seja, as mulheres gastam em média o dobro do que os homens quando esse valor é comparado ao limite do cartao."
      ],
      "metadata": {
        "id": "6f3GbA7SNRJD"
      }
    },
    {
      "cell_type": "markdown",
      "source": [
        "> O estado civil do cliente interfere no quanto ele gasta?"
      ],
      "metadata": {
        "id": "sUdm4ekc0j7f"
      }
    },
    {
      "cell_type": "markdown",
      "source": [
        "```sql\n",
        "SELECT  AVG(valor_transacoes_12m) AS media_transacoes , estado_civil FROM credito\n",
        "WHERE estado_civil != 'na'\n",
        "GROUP BY estado_civil\n",
        "ORDER BY media_transacoes DESC\n",
        "```"
      ],
      "metadata": {
        "id": "4R8lFVdgWA_2"
      }
    },
    {
      "cell_type": "markdown",
      "source": [
        "![](https://github.com/Pinho-11/Projeto_SQL/blob/main/queries_images/media_transacoes_estado_civil.PNG?raw=true)"
      ],
      "metadata": {
        "id": "YhqznVssW-oj"
      }
    },
    {
      "cell_type": "markdown",
      "source": [
        "* Por incrível que pareça, podemos perceber que quanto menor compromisso amoroso do cliente com um parceiro ou parceira, maior é o seu gasto."
      ],
      "metadata": {
        "id": "3hWCaBLXXo-j"
      }
    },
    {
      "cell_type": "markdown",
      "source": [
        "# insights"
      ],
      "metadata": {
        "id": "l--J5cm1-9Vk"
      }
    },
    {
      "cell_type": "markdown",
      "source": [
        "* a maior parte dos clientes são do sexo masculino\n",
        "* a escolaridade não tem um impacto direto no limite de crédito\n",
        "* o salario anual é diretamente proporcional ao limite de crédito\n",
        "* clientes com salario anual de $120K+ foram os que menos gastaram nos ultimos 12 meses\n",
        "* o tipo cartão blue é o mais básico e abrange clientes dos 26 aos 73 anos\n",
        "* na relação entre o valor medio das transações e o limite do cartão, as mulheres gastam o dobro do que os homens\n",
        "* o estado civil interfere diretamente em quanto o cliente gasta\n",
        "\n"
      ],
      "metadata": {
        "id": "-39oQ4ZVYcTS"
      }
    }
  ]
}